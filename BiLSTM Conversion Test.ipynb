{
 "cells": [
  {
   "cell_type": "code",
   "execution_count": 1,
   "metadata": {},
   "outputs": [],
   "source": [
    "import keras.backend as K\n",
    "import tensorflow as tf\n",
    "from keras import Input\n",
    "from keras.engine import Model\n",
    "from keras.models import model_from_json, Sequential\n",
    "from tensorflow.python.framework import sparse_tensor\n",
    "from tensorflow.keras.callbacks import ModelCheckpoint, CSVLogger, EarlyStopping\n",
    "from keras.layers import TimeDistributed, Activation, Dense, Dropout, GRU, Input, Bidirectional, LSTM, Masking, GaussianNoise\n",
    "from keras.optimizers import Adam\n",
    "from keras.preprocessing import sequence\n",
    "import numpy as np\n",
    "import matplotlib.pyplot as plt\n",
    "import datetime\n",
    "import pickle\n",
    "import time\n",
    "import warnings\n",
    "import os"
   ]
  },
  {
   "cell_type": "code",
   "execution_count": 2,
   "metadata": {},
   "outputs": [
    {
     "name": "stdout",
     "output_type": "stream",
     "text": [
      "2.3.1\n"
     ]
    }
   ],
   "source": [
    "print(tf.__version__)"
   ]
  },
  {
   "cell_type": "code",
   "execution_count": 18,
   "metadata": {},
   "outputs": [],
   "source": [
    "def equal(tensor1, tensor2):\n",
    "    for i, j in zip(tensor1.reshape(-1), tensor2.reshape(-1)):\n",
    "        if abs(i - j) > 0.001:\n",
    "            return False\n",
    "    return True"
   ]
  },
  {
   "cell_type": "code",
   "execution_count": 19,
   "metadata": {},
   "outputs": [
    {
     "name": "stdout",
     "output_type": "stream",
     "text": [
      "Model: \"sequential_3\"\n",
      "_________________________________________________________________\n",
      "Layer (type)                 Output Shape              Param #   \n",
      "=================================================================\n",
      "dense_3 (Dense)              (1, 925, 8)               32        \n",
      "_________________________________________________________________\n",
      "lstm_12 (LSTM)               (1, 925, 64)              18688     \n",
      "_________________________________________________________________\n",
      "lstm_13 (LSTM)               (1, 925, 64)              33024     \n",
      "_________________________________________________________________\n",
      "lstm_14 (LSTM)               (1, 925, 64)              33024     \n",
      "_________________________________________________________________\n",
      "lstm_15 (LSTM)               (1, 925, 64)              33024     \n",
      "_________________________________________________________________\n",
      "softmax (Activation)         (1, 925, 64)              0         \n",
      "=================================================================\n",
      "Total params: 117,792\n",
      "Trainable params: 117,792\n",
      "Non-trainable params: 0\n",
      "_________________________________________________________________\n"
     ]
    }
   ],
   "source": [
    "new_model = Sequential()\n",
    "\n",
    "\n",
    "new_model.add(Input(name='input', batch_size=1, shape=(925, 3)) )\n",
    "new_model.add(Dense(8))\n",
    "new_model.add(LSTM(64, return_sequences=True))\n",
    "new_model.add(LSTM(64, return_sequences=True))\n",
    "new_model.add(LSTM(64, return_sequences=True))\n",
    "new_model.add(LSTM(64, return_sequences=True))\n",
    "new_model.add(Activation('softmax', name='softmax'))\n",
    "\n",
    "\n",
    "new_model.summary()"
   ]
  },
  {
   "cell_type": "code",
   "execution_count": 20,
   "metadata": {},
   "outputs": [
    {
     "name": "stdout",
     "output_type": "stream",
     "text": [
      "INFO:tensorflow:Assets written to: /tmp/tmp4ghk5_eb/assets\n"
     ]
    },
    {
     "name": "stderr",
     "output_type": "stream",
     "text": [
      "INFO:tensorflow:Assets written to: /tmp/tmp4ghk5_eb/assets\n"
     ]
    },
    {
     "data": {
      "text/plain": [
       "476052"
      ]
     },
     "execution_count": 20,
     "metadata": {},
     "output_type": "execute_result"
    }
   ],
   "source": [
    "converter = tf.lite.TFLiteConverter.from_keras_model(new_model)\n",
    "#converter.experimental_new_converter = True\n",
    "converter.target_spec.supported_ops = [tf.lite.OpsSet.TFLITE_BUILTINS, tf.lite.OpsSet.SELECT_TF_OPS]\n",
    "#converter.allow_custom_ops=True\n",
    "tflite_model = converter.convert()\n",
    "\n",
    "\n",
    "\n",
    "open(\"tf_test.tflite\", \"wb\").write(tflite_model)"
   ]
  },
  {
   "cell_type": "code",
   "execution_count": 30,
   "metadata": {},
   "outputs": [],
   "source": [
    "interpreter = tf.lite.Interpreter(model_path=\"tf_test.tflite\")\n",
    "output_details = interpreter.get_output_details()\n",
    "inputs = interpreter.get_input_details()\n",
    "interpreter.allocate_tensors()"
   ]
  },
  {
   "cell_type": "code",
   "execution_count": 31,
   "metadata": {},
   "outputs": [],
   "source": [
    "data = np.array(np.random.random_sample(inputs[0]['shape']), dtype=np.float32)\n",
    "interpreter.set_tensor(inputs[0]['index'], data)\n"
   ]
  },
  {
   "cell_type": "markdown",
   "metadata": {},
   "source": [
    "#### Testing converted model model \n",
    "The output differs across different runs"
   ]
  },
  {
   "cell_type": "code",
   "execution_count": 32,
   "metadata": {},
   "outputs": [
    {
     "data": {
      "text/plain": [
       "False"
      ]
     },
     "execution_count": 32,
     "metadata": {},
     "output_type": "execute_result"
    }
   ],
   "source": [
    "interpreter.invoke()\n",
    "output = interpreter.get_tensor(output_details[0]['index'])\n",
    "interpreter.invoke()\n",
    "output2 = interpreter.get_tensor(output_details[0]['index'])\n",
    "equal(output,output2)"
   ]
  },
  {
   "cell_type": "markdown",
   "metadata": {},
   "source": [
    "#### Sometimes it works after few runs."
   ]
  },
  {
   "cell_type": "code",
   "execution_count": 33,
   "metadata": {},
   "outputs": [
    {
     "data": {
      "text/plain": [
       "True"
      ]
     },
     "execution_count": 33,
     "metadata": {},
     "output_type": "execute_result"
    }
   ],
   "source": [
    "interpreter.invoke()\n",
    "output = interpreter.get_tensor(output_details[0]['index'])\n",
    "interpreter.invoke()\n",
    "output2 = interpreter.get_tensor(output_details[0]['index'])\n",
    "equal(output,output2)"
   ]
  },
  {
   "cell_type": "markdown",
   "metadata": {},
   "source": [
    "#### Non-converted TensorFlow always yields the same output"
   ]
  },
  {
   "cell_type": "code",
   "execution_count": 29,
   "metadata": {},
   "outputs": [
    {
     "data": {
      "text/plain": [
       "True"
      ]
     },
     "execution_count": 29,
     "metadata": {},
     "output_type": "execute_result"
    }
   ],
   "source": [
    "output3 = new_model.predict(data)\n",
    "output4 = new_model.predict(data)\n",
    "equal(output3,output4)"
   ]
  },
  {
   "cell_type": "code",
   "execution_count": null,
   "metadata": {},
   "outputs": [],
   "source": []
  }
 ],
 "metadata": {
  "kernelspec": {
   "display_name": "Python 3",
   "language": "python",
   "name": "python3"
  },
  "language_info": {
   "codemirror_mode": {
    "name": "ipython",
    "version": 3
   },
   "file_extension": ".py",
   "mimetype": "text/x-python",
   "name": "python",
   "nbconvert_exporter": "python",
   "pygments_lexer": "ipython3",
   "version": "3.6.12"
  }
 },
 "nbformat": 4,
 "nbformat_minor": 4
}
